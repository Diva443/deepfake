{
 "cells": [
  {
   "cell_type": "code",
   "execution_count": 1,
   "id": "065702c3",
   "metadata": {},
   "outputs": [],
   "source": [
    "import tensorflow as tf\n",
    "\n",
    "loaded_model = tf.keras.models.load_model('my_model.h5')"
   ]
  },
  {
   "cell_type": "code",
   "execution_count": 16,
   "id": "716a08e2",
   "metadata": {},
   "outputs": [],
   "source": [
    "from tensorflow.keras.preprocessing import image\n",
    "import numpy as np\n",
    "\n",
    "img_path = 'E:/deepfake/deepfake_resnet50/Dataset/Validation/Fake/fake_1.jpg'  # Replace with the path to your image\n",
    "img = image.load_img(img_path, target_size=(128, 128))  # Resize the image to match the model's input size\n",
    "img_array = image.img_to_array(img)\n",
    "img_array = img_array / 255.0  # Rescale pixel values to [0, 1]\n",
    "img_array = np.expand_dims(img_array, axis=0)  # Add a batch dimension\n"
   ]
  },
  {
   "cell_type": "code",
   "execution_count": 13,
   "id": "d15df049",
   "metadata": {},
   "outputs": [
    {
     "name": "stdout",
     "output_type": "stream",
     "text": [
      "1/1 [==============================] - 0s 110ms/step\n"
     ]
    }
   ],
   "source": [
    "predictions = loaded_model.predict(img_array)"
   ]
  },
  {
   "cell_type": "code",
   "execution_count": 14,
   "id": "08078d0e",
   "metadata": {},
   "outputs": [],
   "source": [
    "class_label = np.argmax(predictions[0])  # Get the index of the predicted class"
   ]
  },
  {
   "cell_type": "code",
   "execution_count": 15,
   "id": "7c56970d",
   "metadata": {},
   "outputs": [
    {
     "name": "stdout",
     "output_type": "stream",
     "text": [
      "Predicted Class: Fake\n"
     ]
    }
   ],
   "source": [
    "class_labels = ['Real', 'Fake']\n",
    "predicted_class = class_labels[class_label]\n",
    "print('Predicted Class:', predicted_class)"
   ]
  },
  {
   "cell_type": "code",
   "execution_count": null,
   "id": "9e9b5dab",
   "metadata": {},
   "outputs": [],
   "source": []
  }
 ],
 "metadata": {
  "kernelspec": {
   "display_name": "Python 3 (ipykernel)",
   "language": "python",
   "name": "python3"
  },
  "language_info": {
   "codemirror_mode": {
    "name": "ipython",
    "version": 3
   },
   "file_extension": ".py",
   "mimetype": "text/x-python",
   "name": "python",
   "nbconvert_exporter": "python",
   "pygments_lexer": "ipython3",
   "version": "3.9.13"
  }
 },
 "nbformat": 4,
 "nbformat_minor": 5
}
