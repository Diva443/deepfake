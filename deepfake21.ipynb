{
 "cells": [
  {
   "cell_type": "code",
   "execution_count": 3,
   "id": "e8cb1938",
   "metadata": {},
   "outputs": [
    {
     "name": "stdout",
     "output_type": "stream",
     "text": [
      "Found 10905 images belonging to 2 classes.\n",
      "341/341 [==============================] - 342s 1s/step\n",
      "Image 1 - Prediction: 0 (Real: 0.4346)\n",
      "Image 2 - Prediction: 1 (Real: 0.5288)\n",
      "Image 3 - Prediction: 0 (Real: 0.1899)\n",
      "Image 4 - Prediction: 0 (Real: 0.2764)\n",
      "Image 5 - Prediction: 0 (Real: 0.0267)\n",
      "Image 6 - Prediction: 0 (Real: 0.0226)\n",
      "Image 7 - Prediction: 0 (Real: 0.0684)\n",
      "Image 8 - Prediction: 0 (Real: 0.0054)\n",
      "Image 9 - Prediction: 1 (Real: 0.7502)\n",
      "Image 10 - Prediction: 0 (Real: 0.2369)\n",
      "Image 1 - Predicted Class: Fake\n",
      "Image 2 - Predicted Class: Real\n",
      "Image 3 - Predicted Class: Fake\n",
      "Image 4 - Predicted Class: Fake\n",
      "Image 5 - Predicted Class: Fake\n",
      "Image 6 - Predicted Class: Fake\n",
      "Image 7 - Predicted Class: Fake\n",
      "Image 8 - Predicted Class: Fake\n",
      "Image 9 - Predicted Class: Real\n",
      "Image 10 - Predicted Class: Fake\n",
      "Accuracy on test set: 0.4999\n"
     ]
    }
   ],
   "source": [
    "import os\n",
    "import numpy as np\n",
    "import tensorflow as tf\n",
    "from tensorflow.keras.preprocessing.image import ImageDataGenerator\n",
    "from tensorflow.keras.models import load_model\n",
    "\n",
    "TEST_DIR = r\"E:\\deepfake\\deepfake_resnet50\\Dataset\\Test\"\n",
    "img_size = 300\n",
    "img_batch = 32\n",
    "\n",
    "test_datagen = ImageDataGenerator(\n",
    "    rescale=1./255\n",
    ")\n",
    "\n",
    "test_generator = test_datagen.flow_from_directory(\n",
    "    TEST_DIR,\n",
    "    target_size=(img_size, img_size),\n",
    "    class_mode='binary',\n",
    "    batch_size=img_batch,\n",
    "\n",
    "    shuffle=False\n",
    ")\n",
    "\n",
    "model_path = 'model1.hdf5'  # Provide the path to your saved model weights\n",
    "loaded_model = load_model(model_path)\n",
    "\n",
    "predictions = loaded_model.predict(test_generator)\n",
    "\n",
    "# Convert predictions to binary labels (0 or 1)\n",
    "binary_predictions = (predictions > 0.5).astype(int)\n",
    "\n",
    "# Print a few example predictions\n",
    "for i in range(10):\n",
    "    print(f\"Image {i + 1} - Prediction: {binary_predictions[i][0]} (Real: {predictions[i][0]:.4f})\")\n",
    "\n",
    "# If you need the actual class labels (e.g., 'Real' or 'Fake') instead of binary labels\n",
    "class_labels = {1: 'Real', 0: 'Fake'}\n",
    "predicted_labels = [class_labels[prediction[0]] for prediction in binary_predictions]\n",
    "\n",
    "# Print predicted class labels\n",
    "for i in range(10):\n",
    "    print(f\"Image {i + 1} - Predicted Class: {predicted_labels[i]}\")\n",
    "\n",
    "# Evaluate the performance of the model on the test set\n",
    "accuracy = np.mean(binary_predictions == test_generator.labels)\n",
    "print(f\"Accuracy on test set: {accuracy:.4f}\")\n"
   ]
  },
  {
   "cell_type": "code",
   "execution_count": null,
   "id": "8f5954ef",
   "metadata": {},
   "outputs": [],
   "source": []
  },
  {
   "cell_type": "code",
   "execution_count": null,
   "id": "f751de19",
   "metadata": {},
   "outputs": [],
   "source": []
  }
 ],
 "metadata": {
  "kernelspec": {
   "display_name": "Python 3 (ipykernel)",
   "language": "python",
   "name": "python3"
  },
  "language_info": {
   "codemirror_mode": {
    "name": "ipython",
    "version": 3
   },
   "file_extension": ".py",
   "mimetype": "text/x-python",
   "name": "python",
   "nbconvert_exporter": "python",
   "pygments_lexer": "ipython3",
   "version": "3.9.13"
  }
 },
 "nbformat": 4,
 "nbformat_minor": 5
}
