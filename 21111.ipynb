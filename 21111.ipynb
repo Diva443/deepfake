{
 "cells": [
  {
   "cell_type": "code",
   "execution_count": 1,
   "id": "a150ffae",
   "metadata": {},
   "outputs": [
    {
     "name": "stdout",
     "output_type": "stream",
     "text": [
      "Requirement already satisfied: opencv-python in c:\\users\\admin\\anaconda3\\lib\\site-packages (4.8.0.74)\n",
      "Requirement already satisfied: numpy>=1.17.0 in c:\\users\\admin\\anaconda3\\lib\\site-packages (from opencv-python) (1.21.5)\n",
      "Note: you may need to restart the kernel to use updated packages.\n"
     ]
    }
   ],
   "source": [
    "pip install opencv-python"
   ]
  },
  {
   "cell_type": "code",
   "execution_count": 28,
   "id": "f67f4f0a",
   "metadata": {},
   "outputs": [
    {
     "name": "stdout",
     "output_type": "stream",
     "text": [
      "1/1 [==============================] - 0s 220ms/step\n"
     ]
    }
   ],
   "source": [
    "import os\n",
    "import numpy as np\n",
    "import tensorflow as tf\n",
    "from tensorflow.keras.preprocessing.image import load_img, img_to_array\n",
    "from tensorflow.keras.models import load_model\n",
    "import cv2\n",
    "import matplotlib.pyplot as plt\n",
    "\n",
    "model_path = 'model1.hdf5'  # Path to your saved model weights\n",
    "img_size = 300\n",
    "\n",
    "image_file_path = r'E:\\deepfake\\prediction\\real\\real_5.jpg'  # Path to the individual image file\n",
    "\n",
    "# Load the pre-trained model\n",
    "loaded_model = load_model(model_path)\n",
    "\n",
    "# Load and preprocess the individual image\n",
    "image = load_img(image_file_path, target_size=(img_size, img_size))\n",
    "image_array = img_to_array(image) / 255.0  # Normalize pixel values to [0, 1]\n",
    "\n",
    "# Reshape the image array to match the input shape expected by the model\n",
    "image_array = np.expand_dims(image_array, axis=0)\n",
    "\n",
    "# Perform prediction on the individual image\n",
    "prediction = loaded_model.predict(image_array)\n",
    "\n",
    "# Convert prediction to a binary label (0 or 1)\n",
    "binary_prediction = (prediction > 0.5).astype(int)\n",
    "\n",
    "# Determine the class label and confidence\n",
    "if binary_prediction[0][0] == 1:\n",
    "    prediction_label = 'Real'\n",
    "else:\n",
    "    prediction_label = 'Fake'\n",
    "\n",
    "confidence = prediction[0][0]\n",
    "\n",
    "# Display the image using OpenCV in a separate window\n",
    "image_cv2 = cv2.imread(image_file_path)\n",
    "text = f\"Prediction: {prediction_label} (Confidence: {confidence:.4f})\"\n",
    "font_scale = 0.3  # Adjust the font scale as needed\n",
    "cv2.putText(image_cv2, text, (10, 30), cv2.FONT_HERSHEY_COMPLEX , font_scale, (0, 0, 0), 1)\n",
    "\n",
    "# Set a custom window size\n",
    "cv2.namedWindow(\"Image with Prediction\", cv2.WINDOW_NORMAL)\n",
    "cv2.resizeWindow(\"Image with Prediction\", 800, 600)  # Adjust the size as needed\n",
    "\n",
    "cv2.imshow(\"Image with Prediction\", image_cv2)\n",
    "cv2.waitKey(0)\n",
    "cv2.destroyAllWindows()\n"
   ]
  },
  {
   "cell_type": "code",
   "execution_count": null,
   "id": "f0efac01",
   "metadata": {},
   "outputs": [],
   "source": []
  }
 ],
 "metadata": {
  "kernelspec": {
   "display_name": "Python 3 (ipykernel)",
   "language": "python",
   "name": "python3"
  },
  "language_info": {
   "codemirror_mode": {
    "name": "ipython",
    "version": 3
   },
   "file_extension": ".py",
   "mimetype": "text/x-python",
   "name": "python",
   "nbconvert_exporter": "python",
   "pygments_lexer": "ipython3",
   "version": "3.9.13"
  }
 },
 "nbformat": 4,
 "nbformat_minor": 5
}
