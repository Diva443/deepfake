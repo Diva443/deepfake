{
 "cells": [
  {
   "cell_type": "code",
   "execution_count": 8,
   "id": "1c121192",
   "metadata": {},
   "outputs": [],
   "source": [
    "from tensorflow.keras.applications import ResNet50\n",
    "from tensorflow.keras.models import Sequential\n",
    "from tensorflow.keras.layers import GlobalAveragePooling2D, Dense, BatchNormalization\n",
    "from tensorflow.keras.optimizers import Adam\n",
    "from tensorflow.keras.preprocessing.image import ImageDataGenerator\n",
    "import numpy as np\n",
    "from sklearn.metrics import confusion_matrix\n",
    "import matplotlib.pyplot as plt\n",
    "import os"
   ]
  },
  {
   "cell_type": "code",
   "execution_count": null,
   "id": "8004dac4",
   "metadata": {},
   "outputs": [],
   "source": []
  },
  {
   "cell_type": "code",
   "execution_count": 9,
   "id": "b0cca08c",
   "metadata": {},
   "outputs": [],
   "source": [
    "base_path = 'E:/deepfake/deepfake_resnet50/Dataset/'"
   ]
  },
  {
   "cell_type": "code",
   "execution_count": 10,
   "id": "46f2a7d7",
   "metadata": {},
   "outputs": [],
   "source": [
    "base_path = 'E:/deepfake/deepfake_resnet50/Dataset/'\n",
    "input_shape = (128, 128, 3)\n",
    "batch_size = 64\n",
    "augmentation_factor = 2  # Augment the data by a factor of 2\n",
    "small_train_steps = 1000 // (batch_size * augmentation_factor)"
   ]
  },
  {
   "cell_type": "code",
   "execution_count": 11,
   "id": "2a6cbce0",
   "metadata": {},
   "outputs": [
    {
     "name": "stdout",
     "output_type": "stream",
     "text": [
      "Model: \"sequential\"\n",
      "_________________________________________________________________\n",
      " Layer (type)                Output Shape              Param #   \n",
      "=================================================================\n",
      " resnet50 (Functional)       (None, 4, 4, 2048)        23587712  \n",
      "                                                                 \n",
      " global_average_pooling2d (G  (None, 2048)             0         \n",
      " lobalAveragePooling2D)                                          \n",
      "                                                                 \n",
      " dense (Dense)               (None, 512)               1049088   \n",
      "                                                                 \n",
      " batch_normalization (BatchN  (None, 512)              2048      \n",
      " ormalization)                                                   \n",
      "                                                                 \n",
      " dense_1 (Dense)             (None, 2)                 1026      \n",
      "                                                                 \n",
      "=================================================================\n",
      "Total params: 24,639,874\n",
      "Trainable params: 24,585,730\n",
      "Non-trainable params: 54,144\n",
      "_________________________________________________________________\n"
     ]
    },
    {
     "name": "stderr",
     "output_type": "stream",
     "text": [
      "C:\\Users\\Admin\\anaconda3\\lib\\site-packages\\keras\\optimizers\\optimizer_v2\\adam.py:114: UserWarning: The `lr` argument is deprecated, use `learning_rate` instead.\n",
      "  super().__init__(name, **kwargs)\n"
     ]
    }
   ],
   "source": [
    "def build_model():\n",
    "    densenet = ResNet50(\n",
    "        weights='imagenet',\n",
    "        include_top=False,\n",
    "        input_shape=input_shape\n",
    "    )\n",
    "    model = Sequential([\n",
    "        densenet,\n",
    "        GlobalAveragePooling2D(),\n",
    "        Dense(512, activation='relu'),\n",
    "        BatchNormalization(),\n",
    "        Dense(2, activation='softmax')\n",
    "    ])\n",
    "    model.compile(\n",
    "        optimizer=Adam(lr=0.001),\n",
    "        loss='categorical_crossentropy',\n",
    "        metrics=['accuracy']\n",
    "    )\n",
    "    return model\n",
    "\n",
    "model = build_model()\n",
    "model.summary()"
   ]
  },
  {
   "cell_type": "code",
   "execution_count": 12,
   "id": "c74c197d",
   "metadata": {},
   "outputs": [],
   "source": [
    "# Define an augmented data generator\n",
    "augmented_generator = ImageDataGenerator(\n",
    "    rescale=1. / 255.,\n",
    "    rotation_range=20,\n",
    "    width_shift_range=0.2,\n",
    "    height_shift_range=0.2,\n",
    "    shear_range=0.2,\n",
    "    zoom_range=0.2,\n",
    "    horizontal_flip=True,\n",
    "    fill_mode='nearest'\n",
    ")"
   ]
  },
  {
   "cell_type": "code",
   "execution_count": 13,
   "id": "36e212b2",
   "metadata": {},
   "outputs": [
    {
     "name": "stdout",
     "output_type": "stream",
     "text": [
      "Found 140002 images belonging to 2 classes.\n"
     ]
    }
   ],
   "source": [
    "# Create augmented training data generator\n",
    "augmented_train_flow = augmented_generator.flow_from_directory(\n",
    "    os.path.join(base_path, 'Train'),\n",
    "    target_size=(128, 128),\n",
    "    batch_size=batch_size,\n",
    "    class_mode='categorical'\n",
    ")"
   ]
  },
  {
   "cell_type": "code",
   "execution_count": 14,
   "id": "2b021622",
   "metadata": {},
   "outputs": [
    {
     "name": "stdout",
     "output_type": "stream",
     "text": [
      "Found 39428 images belonging to 2 classes.\n"
     ]
    }
   ],
   "source": [
    "# Validation data generator (no augmentation)\n",
    "valid_generator = ImageDataGenerator(rescale=1. / 255.)\n",
    "valid_flow = valid_generator.flow_from_directory(\n",
    "    os.path.join(base_path, 'Validation'),\n",
    "    target_size=(128, 128),\n",
    "    batch_size=batch_size,\n",
    "    class_mode='categorical'\n",
    ")\n"
   ]
  },
  {
   "cell_type": "code",
   "execution_count": 15,
   "id": "93bb9cd1",
   "metadata": {},
   "outputs": [],
   "source": [
    "# Define a custom callback to compute and print confusion matrix\n",
    "class PredictionCallback(tf.keras.callbacks.Callback):\n",
    "    def on_epoch_end(self, epoch, logs={}):\n",
    "        y_pred = self.model.predict(valid_flow[0][0])\n",
    "        y_test = valid_flow[0][1]\n",
    "        y_pred_labels = np.argmax(y_pred, axis=1)\n",
    "        y_test_labels = np.argmax(y_test, axis=1)\n",
    "        cfm = confusion_matrix(y_test_labels, y_pred_labels)\n",
    "        print(cfm)\n",
    "        print(y_pred[0], y_test[0])"
   ]
  },
  {
   "cell_type": "code",
   "execution_count": 17,
   "id": "620a9f5a",
   "metadata": {},
   "outputs": [
    {
     "name": "stdout",
     "output_type": "stream",
     "text": [
      "Epoch 1/10\n",
      "2/2 [==============================] - 4s 1s/steploss: 1.4914 - accuracy: 0.\n",
      "[[ 0 27]\n",
      " [ 0 37]]\n",
      "[5.8830176e-19 1.0000000e+00] [1. 0.]\n",
      "7/7 [==============================] - 346s 56s/step - loss: 1.4914 - accuracy: 0.6071 - val_loss: 21.4357 - val_accuracy: 0.4925\n",
      "Epoch 2/10\n",
      "2/2 [==============================] - 2s 1s/steploss: 1.0601 - accuracy: 0.\n",
      "[[29  0]\n",
      " [35  0]]\n",
      "[1. 0.] [1. 0.]\n",
      "7/7 [==============================] - 407s 66s/step - loss: 1.0601 - accuracy: 0.6763 - val_loss: 105.3194 - val_accuracy: 0.5030\n",
      "Epoch 3/10\n",
      "2/2 [==============================] - 2s 1s/steploss: 0.6277 - accuracy: 0.7\n",
      "[[ 0 34]\n",
      " [ 0 30]]\n",
      "[0. 1.] [0. 1.]\n",
      "7/7 [==============================] - 424s 69s/step - loss: 0.6277 - accuracy: 0.7054 - val_loss: 2006.0413 - val_accuracy: 0.4999\n",
      "Epoch 4/10\n",
      "2/2 [==============================] - 2s 1s/steploss: 0.6013 - accuracy: 0.\n",
      "[[39  0]\n",
      " [25  0]]\n",
      "[1. 0.] [0. 1.]\n",
      "7/7 [==============================] - 401s 65s/step - loss: 0.6013 - accuracy: 0.7299 - val_loss: 5780.5703 - val_accuracy: 0.4933\n",
      "Epoch 5/10\n",
      "2/2 [==============================] - 2s 1s/steploss: 0.4803 - accuracy: 0.\n",
      "[[ 0 27]\n",
      " [ 0 37]]\n",
      "[0. 1.] [0. 1.]\n",
      "7/7 [==============================] - 397s 64s/step - loss: 0.4803 - accuracy: 0.7679 - val_loss: 13330.1123 - val_accuracy: 0.5067\n",
      "Epoch 6/10\n",
      "2/2 [==============================] - 2s 1s/steploss: 0.3958 - accuracy: 0.\n",
      "[[ 0 30]\n",
      " [ 0 34]]\n",
      "[0. 1.] [1. 0.]\n",
      "7/7 [==============================] - 401s 65s/step - loss: 0.3958 - accuracy: 0.8259 - val_loss: 4124.4897 - val_accuracy: 0.4981\n",
      "Epoch 7/10\n",
      "2/2 [==============================] - 1s 749ms/steps: 0.3623 - accuracy: 0.8\n",
      "[[ 0 36]\n",
      " [ 0 28]]\n",
      "[0. 1.] [0. 1.]\n",
      "7/7 [==============================] - 326s 52s/step - loss: 0.3623 - accuracy: 0.8326 - val_loss: 468.5309 - val_accuracy: 0.5086\n",
      "Epoch 8/10\n",
      "2/2 [==============================] - 2s 1s/steploss: 0.3868 - accuracy: 0.\n",
      "[[ 0 31]\n",
      " [ 0 33]]\n",
      "[0. 1.] [1. 0.]\n",
      "7/7 [==============================] - 293s 48s/step - loss: 0.3868 - accuracy: 0.8371 - val_loss: 50.6577 - val_accuracy: 0.5081\n",
      "Epoch 9/10\n",
      "2/2 [==============================] - 2s 1s/steploss: 0.3446 - accuracy: 0.\n",
      "[[33  0]\n",
      " [31  0]]\n",
      "[0.61904 0.38096] [0. 1.]\n",
      "7/7 [==============================] - 395s 64s/step - loss: 0.3446 - accuracy: 0.8638 - val_loss: 0.7201 - val_accuracy: 0.4957\n",
      "Epoch 10/10\n",
      "2/2 [==============================] - 1s 716ms/steps: 0.3338 - accuracy: 0.8\n",
      "[[ 0 32]\n",
      " [ 0 32]]\n",
      "[0.40732047 0.5926796 ] [1. 0.]\n",
      "7/7 [==============================] - 351s 57s/step - loss: 0.3338 - accuracy: 0.8616 - val_loss: 0.7131 - val_accuracy: 0.4963\n"
     ]
    }
   ],
   "source": [
    "# Calculate the number of validation steps\n",
    "valid_steps = 10000 // batch_size\n",
    "\n",
    "# Train the model with augmented data\n",
    "history = model.fit(\n",
    "    augmented_train_flow,\n",
    "    epochs=10,\n",
    "    steps_per_epoch=small_train_steps,\n",
    "    validation_data=valid_flow,\n",
    "    validation_steps=valid_steps,\n",
    "    callbacks=[PredictionCallback()]\n",
    ")"
   ]
  },
  {
   "cell_type": "code",
   "execution_count": 19,
   "id": "2c3d6aff",
   "metadata": {},
   "outputs": [],
   "source": [
    "model.save('my_model.h5')"
   ]
  }
 ],
 "metadata": {
  "kernelspec": {
   "display_name": "Python 3 (ipykernel)",
   "language": "python",
   "name": "python3"
  },
  "language_info": {
   "codemirror_mode": {
    "name": "ipython",
    "version": 3
   },
   "file_extension": ".py",
   "mimetype": "text/x-python",
   "name": "python",
   "nbconvert_exporter": "python",
   "pygments_lexer": "ipython3",
   "version": "3.9.13"
  }
 },
 "nbformat": 4,
 "nbformat_minor": 5
}
