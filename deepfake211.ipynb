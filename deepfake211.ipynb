{
 "cells": [
  {
   "cell_type": "code",
   "execution_count": 33,
   "id": "e9a9401b",
   "metadata": {},
   "outputs": [
    {
     "name": "stdout",
     "output_type": "stream",
     "text": [
      "1/1 [==============================] - 0s 202ms/step\n",
      "Prediction: Real (Confidence: 0.8022)\n"
     ]
    }
   ],
   "source": [
    "import os\n",
    "import numpy as np\n",
    "import tensorflow as tf\n",
    "from tensorflow.keras.preprocessing.image import load_img, img_to_array\n",
    "from tensorflow.keras.models import load_model\n",
    "\n",
    "model_path = 'model1.hdf5'  # Path to your saved model weights\n",
    "img_size = 300\n",
    "\n",
    "image_file_path = r'E:\\deepfake\\prediction\\real\\real_4.jpg'  # Path to the individual image file\n",
    "\n",
    "# Load the pre-trained model\n",
    "loaded_model = load_model(model_path)\n",
    "\n",
    "# Load and preprocess the individual image\n",
    "image = load_img(image_file_path, target_size=(img_size, img_size))\n",
    "image_array = img_to_array(image) / 255.0  # Normalize pixel values to [0, 1]\n",
    "\n",
    "# Reshape the image array to match the input shape expected by the model\n",
    "image_array = np.expand_dims(image_array, axis=0)\n",
    "\n",
    "# Perform prediction on the individual image\n",
    "prediction = loaded_model.predict(image_array)\n",
    "\n",
    "# Convert prediction to a binary label (0 or 1)\n",
    "binary_prediction = (prediction > 0.5).astype(int)\n",
    "\n",
    "# Print the prediction and confidence\n",
    "if binary_prediction[0][0] == 1:\n",
    "    prediction_label = 'Real'\n",
    "else:\n",
    "    prediction_label = 'Fake'\n",
    "\n",
    "print(f\"Prediction: {prediction_label} (Confidence: {prediction[0][0]:.4f})\")\n"
   ]
  },
  {
   "cell_type": "code",
   "execution_count": null,
   "id": "f3c40a09",
   "metadata": {},
   "outputs": [],
   "source": []
  },
  {
   "cell_type": "code",
   "execution_count": null,
   "id": "a7098ea5",
   "metadata": {},
   "outputs": [],
   "source": []
  },
  {
   "cell_type": "code",
   "execution_count": 17,
   "id": "4a5a047a",
   "metadata": {},
   "outputs": [],
   "source": []
  },
  {
   "cell_type": "code",
   "execution_count": 18,
   "id": "da9a1e8c",
   "metadata": {},
   "outputs": [],
   "source": []
  },
  {
   "cell_type": "code",
   "execution_count": null,
   "id": "c150f80e",
   "metadata": {},
   "outputs": [],
   "source": []
  },
  {
   "cell_type": "code",
   "execution_count": null,
   "id": "f5284cb7",
   "metadata": {},
   "outputs": [],
   "source": []
  },
  {
   "cell_type": "code",
   "execution_count": null,
   "id": "c8bcf6c7",
   "metadata": {},
   "outputs": [],
   "source": []
  }
 ],
 "metadata": {
  "kernelspec": {
   "display_name": "Python 3 (ipykernel)",
   "language": "python",
   "name": "python3"
  },
  "language_info": {
   "codemirror_mode": {
    "name": "ipython",
    "version": 3
   },
   "file_extension": ".py",
   "mimetype": "text/x-python",
   "name": "python",
   "nbconvert_exporter": "python",
   "pygments_lexer": "ipython3",
   "version": "3.9.13"
  }
 },
 "nbformat": 4,
 "nbformat_minor": 5
}
